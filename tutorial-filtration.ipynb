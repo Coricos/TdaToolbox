{
 "cells": [
  {
   "cell_type": "markdown",
   "metadata": {},
   "source": [
    "# Use-Cases of TDA Usage on 3D Shapes"
   ]
  },
  {
   "cell_type": "code",
   "execution_count": 1,
   "metadata": {},
   "outputs": [
    {
     "name": "stdout",
     "output_type": "stream",
     "text": [
      "Populating the interactive namespace from numpy and matplotlib\n",
      "[###] Gudhi could not be imported ...\n"
     ]
    },
    {
     "data": {
      "text/html": [
       "        <script type=\"text/javascript\">\n",
       "        window.PlotlyConfig = {MathJaxConfig: 'local'};\n",
       "        if (window.MathJax) {MathJax.Hub.Config({SVG: {font: \"STIX-Web\"}});}\n",
       "        if (typeof require !== 'undefined') {\n",
       "        require.undef(\"plotly\");\n",
       "        requirejs.config({\n",
       "            paths: {\n",
       "                'plotly': ['https://cdn.plot.ly/plotly-latest.min']\n",
       "            }\n",
       "        });\n",
       "        require(['plotly'], function(Plotly) {\n",
       "            window._Plotly = Plotly;\n",
       "        });\n",
       "        }\n",
       "        </script>\n",
       "        "
      ]
     },
     "metadata": {},
     "output_type": "display_data"
    }
   ],
   "source": [
    "%pylab inline\n",
    "%load_ext autoreload\n",
    "%autoreload 2\n",
    "\n",
    "import warnings, tqdm\n",
    "warnings.simplefilter('ignore')\n",
    "\n",
    "from mpl_toolkits.mplot3d import Axes3D\n",
    "\n",
    "from filtration.filtration import *\n",
    "\n",
    "pyo.init_notebook_mode(connected=True)"
   ]
  },
  {
   "cell_type": "markdown",
   "metadata": {},
   "source": [
    "## ToolBox Functions"
   ]
  },
  {
   "cell_type": "code",
   "execution_count": 2,
   "metadata": {
    "code_folding": [
     3
    ]
   },
   "outputs": [],
   "source": [
    "# The following function aims at loading the 3D point cloud from formatted files. \n",
    "# Those files contains different object, and filtering is necessary to extract what we are looking for.\n",
    "\n",
    "def load_3D_shape(filepath):\n",
    "\n",
    "    vec = []\n",
    "    num = sum(1 for line in open(filepath, 'r'))\n",
    "\n",
    "    with open(filepath, 'r') as raw:\n",
    "        for idx in tqdm.tqdm(range(num)):\n",
    "            tmp = raw.readline().split(' ')\n",
    "            if len(tmp) == 3: vec.append(np.asarray(tmp).astype('float'))\n",
    "\n",
    "    vec = np.vstack(vec)\n",
    "    \n",
    "    return vec"
   ]
  },
  {
   "cell_type": "code",
   "execution_count": 3,
   "metadata": {
    "code_folding": [
     3
    ]
   },
   "outputs": [],
   "source": [
    "# This function build the corresponding simplex tree and filtration given the 3D point cloud.\n",
    "# It is based on the gudhi.SimpleTree structure, and a robust neighboring graph.\n",
    "\n",
    "def sublevels_3D(vec):    \n",
    "    \n",
    "    kdt = KDTree(vec[:,:], metric='euclidean')\n",
    "    sxt = gudhi.SimplexTree()\n",
    "\n",
    "    for ind in range(len(vec)):\n",
    "        sxt.insert([ind], filtration=-vec[ind,2])\n",
    "        nei = kdt.query([vec[ind,:]], 5, return_distance=False)[0][1:]\n",
    "        for idx in nei:\n",
    "            sxt.insert([ind, idx], filtration=np.mean([-vec[ind,2], -vec[idx,2]]))\n",
    "\n",
    "    sxt.initialize_filtration()\n",
    "    sxt.persistence()\n",
    "\n",
    "    return sxt"
   ]
  },
  {
   "cell_type": "code",
   "execution_count": 4,
   "metadata": {},
   "outputs": [],
   "source": [
    "# Given a filtrated simple tree, this function renders the betti curves in dimension 0.\n",
    "# The dimension 0 is representative of the connected components (cycles would here be irrelevant).\n",
    "\n",
    "def betti_curves(sxt):\n",
    "    \n",
    "    v = np.zeros(100)\n",
    "    \n",
    "    dig = sxt.persistence_intervals_in_dimension(0)\n",
    "    dig = np.asarray([[ele[0], ele[1]] for ele in dig if ele[1] < np.inf])\n",
    "    \n",
    "    mnu, mxu = np.min(dig), np.max(dig)\n",
    "    dis = np.linspace(mnu, mxu, num=100)\n",
    "    \n",
    "    for ele in dig: v += functionize(dis, ele)\n",
    "        \n",
    "    # The output will be a non-scaled betti curve discretized over 100 points\n",
    "        \n",
    "    return v"
   ]
  },
  {
   "cell_type": "code",
   "execution_count": 5,
   "metadata": {},
   "outputs": [],
   "source": [
    "# Given a filtrated simple tree, this function renders the persistent landscapes in dimension 0.\n",
    "\n",
    "def landscapes(sxt):\n",
    "    \n",
    "    dig = sxt.persistence_intervals_in_dimension(0)\n",
    "    dig = np.asarray([[ele[0], ele[1]] for ele in dig if ele[1] < np.inf])\n",
    "    \n",
    "    # The output will be 10 non-scaled landscapes discretized over 100 points\n",
    "    \n",
    "    return build_landscapes(dig, 10, 100, None, None)"
   ]
  },
  {
   "cell_type": "markdown",
   "metadata": {},
   "source": [
    "## Construction"
   ]
  },
  {
   "cell_type": "code",
   "execution_count": 7,
   "metadata": {},
   "outputs": [
    {
     "name": "stderr",
     "output_type": "stream",
     "text": [
      "100%|██████████| 21722/21722 [00:00<00:00, 248047.04it/s]\n"
     ]
    },
    {
     "ename": "NameError",
     "evalue": "name 'gudhi' is not defined",
     "output_type": "error",
     "traceback": [
      "\u001b[0;31m---------------------------------------------------------------------------\u001b[0m",
      "\u001b[0;31mNameError\u001b[0m                                 Traceback (most recent call last)",
      "\u001b[0;32m<ipython-input-7-6b5eeb816a1e>\u001b[0m in \u001b[0;36m<module>\u001b[0;34m\u001b[0m\n\u001b[1;32m      1\u001b[0m \u001b[0mvec\u001b[0m \u001b[0;34m=\u001b[0m \u001b[0mload_3D_shape\u001b[0m\u001b[0;34m(\u001b[0m\u001b[0;34m'./samples/hand.off'\u001b[0m\u001b[0;34m)\u001b[0m\u001b[0;34m\u001b[0m\u001b[0;34m\u001b[0m\u001b[0m\n\u001b[0;32m----> 2\u001b[0;31m \u001b[0msxt\u001b[0m \u001b[0;34m=\u001b[0m \u001b[0msublevels_3D\u001b[0m\u001b[0;34m(\u001b[0m\u001b[0mvec\u001b[0m\u001b[0;34m)\u001b[0m\u001b[0;34m\u001b[0m\u001b[0;34m\u001b[0m\u001b[0m\n\u001b[0m\u001b[1;32m      3\u001b[0m \u001b[0;31m# Extracts the components of dimension 0\u001b[0m\u001b[0;34m\u001b[0m\u001b[0;34m\u001b[0m\u001b[0;34m\u001b[0m\u001b[0m\n\u001b[1;32m      4\u001b[0m \u001b[0mdig\u001b[0m \u001b[0;34m=\u001b[0m \u001b[0;34m[\u001b[0m\u001b[0;34m(\u001b[0m\u001b[0;36m0\u001b[0m\u001b[0;34m,\u001b[0m \u001b[0mval\u001b[0m\u001b[0;34m)\u001b[0m \u001b[0;32mfor\u001b[0m \u001b[0mval\u001b[0m \u001b[0;32min\u001b[0m \u001b[0msxt\u001b[0m\u001b[0;34m.\u001b[0m\u001b[0mpersistence_intervals_in_dimension\u001b[0m\u001b[0;34m(\u001b[0m\u001b[0;36m0\u001b[0m\u001b[0;34m)\u001b[0m\u001b[0;34m]\u001b[0m\u001b[0;34m\u001b[0m\u001b[0;34m\u001b[0m\u001b[0m\n\u001b[1;32m      5\u001b[0m \u001b[0mbtc\u001b[0m \u001b[0;34m=\u001b[0m \u001b[0mbetti_curves\u001b[0m\u001b[0;34m(\u001b[0m\u001b[0msxt\u001b[0m\u001b[0;34m)\u001b[0m\u001b[0;34m\u001b[0m\u001b[0;34m\u001b[0m\u001b[0m\n",
      "\u001b[0;32m<ipython-input-3-b6ccb0bb040d>\u001b[0m in \u001b[0;36msublevels_3D\u001b[0;34m(vec)\u001b[0m\n\u001b[1;32m      5\u001b[0m \u001b[0;34m\u001b[0m\u001b[0m\n\u001b[1;32m      6\u001b[0m     \u001b[0mkdt\u001b[0m \u001b[0;34m=\u001b[0m \u001b[0mKDTree\u001b[0m\u001b[0;34m(\u001b[0m\u001b[0mvec\u001b[0m\u001b[0;34m[\u001b[0m\u001b[0;34m:\u001b[0m\u001b[0;34m,\u001b[0m\u001b[0;34m:\u001b[0m\u001b[0;34m]\u001b[0m\u001b[0;34m,\u001b[0m \u001b[0mmetric\u001b[0m\u001b[0;34m=\u001b[0m\u001b[0;34m'euclidean'\u001b[0m\u001b[0;34m)\u001b[0m\u001b[0;34m\u001b[0m\u001b[0;34m\u001b[0m\u001b[0m\n\u001b[0;32m----> 7\u001b[0;31m     \u001b[0msxt\u001b[0m \u001b[0;34m=\u001b[0m \u001b[0mgudhi\u001b[0m\u001b[0;34m.\u001b[0m\u001b[0mSimplexTree\u001b[0m\u001b[0;34m(\u001b[0m\u001b[0;34m)\u001b[0m\u001b[0;34m\u001b[0m\u001b[0;34m\u001b[0m\u001b[0m\n\u001b[0m\u001b[1;32m      8\u001b[0m \u001b[0;34m\u001b[0m\u001b[0m\n\u001b[1;32m      9\u001b[0m     \u001b[0;32mfor\u001b[0m \u001b[0mind\u001b[0m \u001b[0;32min\u001b[0m \u001b[0mrange\u001b[0m\u001b[0;34m(\u001b[0m\u001b[0mlen\u001b[0m\u001b[0;34m(\u001b[0m\u001b[0mvec\u001b[0m\u001b[0;34m)\u001b[0m\u001b[0;34m)\u001b[0m\u001b[0;34m:\u001b[0m\u001b[0;34m\u001b[0m\u001b[0;34m\u001b[0m\u001b[0m\n",
      "\u001b[0;31mNameError\u001b[0m: name 'gudhi' is not defined"
     ]
    }
   ],
   "source": [
    "vec = load_3D_shape('./samples/hand.off')\n",
    "sxt = sublevels_3D(vec)\n",
    "# Extracts the components of dimension 0\n",
    "dig = [(0, val) for val in sxt.persistence_intervals_in_dimension(0)]\n",
    "btc = betti_curves(sxt)\n",
    "ldc = landscapes(sxt)"
   ]
  },
  {
   "cell_type": "code",
   "execution_count": null,
   "metadata": {
    "scrolled": false
   },
   "outputs": [],
   "source": [
    "plt.figure(figsize=(18,14))\n",
    "fig = gds.GridSpec(4, 2)\n",
    "ax0 = plt.subplot(fig[:,0], projection='3d')\n",
    "ax0.set_title('Mapped 3 Dimensional Data Cloud')\n",
    "ax0.set_xticks([])                               \n",
    "ax0.set_yticks([])                               \n",
    "ax0.set_zticks([])\n",
    "ax0.scatter(vec[:,0], vec[:,1], vec[:,2], s=2, c='coral')\n",
    "ax0.set_xlabel('x Coordinate')\n",
    "ax0.set_ylabel('y Coordinate')\n",
    "ax0.set_zlabel('z Coordinate')\n",
    "plt.subplot(fig[0,1])\n",
    "gudhi.plot_persistence_diagram(dig)\n",
    "plt.subplot(fig[1,1])\n",
    "gudhi.plot_persistence_barcode(dig)\n",
    "plt.subplot(fig[2,1])\n",
    "plt.title('Betti Curve')\n",
    "plt.plot(btc)\n",
    "plt.subplot(fig[3,1])\n",
    "plt.title('Persistence Landscapes')\n",
    "for ele in ldc: plt.plot(ele)\n",
    "plt.tight_layout()\n",
    "plt.show()"
   ]
  }
 ],
 "metadata": {
  "kernelspec": {
   "display_name": "Python 3",
   "language": "python",
   "name": "python3"
  },
  "language_info": {
   "codemirror_mode": {
    "name": "ipython",
    "version": 3
   },
   "file_extension": ".py",
   "mimetype": "text/x-python",
   "name": "python",
   "nbconvert_exporter": "python",
   "pygments_lexer": "ipython3",
   "version": "3.6.8"
  }
 },
 "nbformat": 4,
 "nbformat_minor": 2
}
